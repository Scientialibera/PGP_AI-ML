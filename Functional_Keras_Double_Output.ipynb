{
 "cells": [
  {
   "cell_type": "markdown",
   "metadata": {},
   "source": [
    "# Functional Neural Network\n",
    "In this example, we will use a simple neural network to output two different values. The first one will be the number of cylinders the car has and the second one will be its miles per gallon. Although cylinders is an integer, we will turn it into a category just to showcase how the network can predict both a continous and a categorical value."
   ]
  },
  {
   "cell_type": "code",
   "execution_count": 85,
   "metadata": {},
   "outputs": [],
   "source": [
    "import tensorflow as tf\n",
    "from tensorflow import keras\n",
    "import pandas as pd\n",
    "import numpy as np\n",
    "pd.set_option(\"display.max_columns\", None)\n",
    "pd.set_option(\"display.max_rows\", 100)\n",
    "from sklearn.impute import KNNImputer\n",
    "import matplotlib.pyplot as plt\n",
    "import seaborn as sns\n",
    "%matplotlib inline\n",
    "from sklearn.model_selection import train_test_split"
   ]
  },
  {
   "cell_type": "code",
   "execution_count": 86,
   "metadata": {},
   "outputs": [],
   "source": [
    "# Read data from csv and covert into pandas dataframe\n",
    "df = pd.read_csv('auto-mpg.csv') "
   ]
  },
  {
   "cell_type": "code",
   "execution_count": 152,
   "metadata": {},
   "outputs": [
    {
     "data": {
      "text/html": [
       "<div>\n",
       "<style scoped>\n",
       "    .dataframe tbody tr th:only-of-type {\n",
       "        vertical-align: middle;\n",
       "    }\n",
       "\n",
       "    .dataframe tbody tr th {\n",
       "        vertical-align: top;\n",
       "    }\n",
       "\n",
       "    .dataframe thead th {\n",
       "        text-align: right;\n",
       "    }\n",
       "</style>\n",
       "<table border=\"1\" class=\"dataframe\">\n",
       "  <thead>\n",
       "    <tr style=\"text-align: right;\">\n",
       "      <th></th>\n",
       "      <th>mpg</th>\n",
       "      <th>cylinders</th>\n",
       "      <th>displacement</th>\n",
       "      <th>horsepower</th>\n",
       "      <th>weight</th>\n",
       "      <th>acceleration</th>\n",
       "      <th>model year</th>\n",
       "      <th>origin</th>\n",
       "      <th>Brand</th>\n",
       "    </tr>\n",
       "  </thead>\n",
       "  <tbody>\n",
       "    <tr>\n",
       "      <th>174</th>\n",
       "      <td>18.0</td>\n",
       "      <td>6</td>\n",
       "      <td>171.0</td>\n",
       "      <td>97</td>\n",
       "      <td>2984</td>\n",
       "      <td>14.5</td>\n",
       "      <td>75</td>\n",
       "      <td>1</td>\n",
       "      <td>ford</td>\n",
       "    </tr>\n",
       "    <tr>\n",
       "      <th>359</th>\n",
       "      <td>28.1</td>\n",
       "      <td>4</td>\n",
       "      <td>141.0</td>\n",
       "      <td>80</td>\n",
       "      <td>3230</td>\n",
       "      <td>20.4</td>\n",
       "      <td>81</td>\n",
       "      <td>2</td>\n",
       "      <td>peugeot</td>\n",
       "    </tr>\n",
       "    <tr>\n",
       "      <th>250</th>\n",
       "      <td>19.4</td>\n",
       "      <td>8</td>\n",
       "      <td>318.0</td>\n",
       "      <td>140</td>\n",
       "      <td>3735</td>\n",
       "      <td>13.2</td>\n",
       "      <td>78</td>\n",
       "      <td>1</td>\n",
       "      <td>dodge</td>\n",
       "    </tr>\n",
       "    <tr>\n",
       "      <th>274</th>\n",
       "      <td>20.3</td>\n",
       "      <td>5</td>\n",
       "      <td>131.0</td>\n",
       "      <td>103</td>\n",
       "      <td>2830</td>\n",
       "      <td>15.9</td>\n",
       "      <td>78</td>\n",
       "      <td>2</td>\n",
       "      <td>audi</td>\n",
       "    </tr>\n",
       "    <tr>\n",
       "      <th>283</th>\n",
       "      <td>20.2</td>\n",
       "      <td>6</td>\n",
       "      <td>232.0</td>\n",
       "      <td>90</td>\n",
       "      <td>3265</td>\n",
       "      <td>18.2</td>\n",
       "      <td>79</td>\n",
       "      <td>1</td>\n",
       "      <td>amc</td>\n",
       "    </tr>\n",
       "    <tr>\n",
       "      <th>232</th>\n",
       "      <td>16.0</td>\n",
       "      <td>8</td>\n",
       "      <td>351.0</td>\n",
       "      <td>149</td>\n",
       "      <td>4335</td>\n",
       "      <td>14.5</td>\n",
       "      <td>77</td>\n",
       "      <td>1</td>\n",
       "      <td>ford</td>\n",
       "    </tr>\n",
       "    <tr>\n",
       "      <th>117</th>\n",
       "      <td>29.0</td>\n",
       "      <td>4</td>\n",
       "      <td>68.0</td>\n",
       "      <td>49</td>\n",
       "      <td>1867</td>\n",
       "      <td>19.5</td>\n",
       "      <td>73</td>\n",
       "      <td>2</td>\n",
       "      <td>fiat</td>\n",
       "    </tr>\n",
       "    <tr>\n",
       "      <th>348</th>\n",
       "      <td>37.7</td>\n",
       "      <td>4</td>\n",
       "      <td>89.0</td>\n",
       "      <td>62</td>\n",
       "      <td>2050</td>\n",
       "      <td>17.3</td>\n",
       "      <td>81</td>\n",
       "      <td>3</td>\n",
       "      <td>toyota</td>\n",
       "    </tr>\n",
       "    <tr>\n",
       "      <th>189</th>\n",
       "      <td>15.5</td>\n",
       "      <td>8</td>\n",
       "      <td>304.0</td>\n",
       "      <td>120</td>\n",
       "      <td>3962</td>\n",
       "      <td>13.9</td>\n",
       "      <td>76</td>\n",
       "      <td>1</td>\n",
       "      <td>amc</td>\n",
       "    </tr>\n",
       "    <tr>\n",
       "      <th>106</th>\n",
       "      <td>12.0</td>\n",
       "      <td>8</td>\n",
       "      <td>350.0</td>\n",
       "      <td>180</td>\n",
       "      <td>4499</td>\n",
       "      <td>12.5</td>\n",
       "      <td>73</td>\n",
       "      <td>1</td>\n",
       "      <td>oldsmobile</td>\n",
       "    </tr>\n",
       "  </tbody>\n",
       "</table>\n",
       "</div>"
      ],
      "text/plain": [
       "      mpg cylinders  displacement  horsepower  weight  acceleration  \\\n",
       "174  18.0         6         171.0          97    2984          14.5   \n",
       "359  28.1         4         141.0          80    3230          20.4   \n",
       "250  19.4         8         318.0         140    3735          13.2   \n",
       "274  20.3         5         131.0         103    2830          15.9   \n",
       "283  20.2         6         232.0          90    3265          18.2   \n",
       "232  16.0         8         351.0         149    4335          14.5   \n",
       "117  29.0         4          68.0          49    1867          19.5   \n",
       "348  37.7         4          89.0          62    2050          17.3   \n",
       "189  15.5         8         304.0         120    3962          13.9   \n",
       "106  12.0         8         350.0         180    4499          12.5   \n",
       "\n",
       "     model year  origin       Brand  \n",
       "174          75       1        ford  \n",
       "359          81       2     peugeot  \n",
       "250          78       1       dodge  \n",
       "274          78       2        audi  \n",
       "283          79       1         amc  \n",
       "232          77       1        ford  \n",
       "117          73       2        fiat  \n",
       "348          81       3      toyota  \n",
       "189          76       1         amc  \n",
       "106          73       1  oldsmobile  "
      ]
     },
     "execution_count": 152,
     "metadata": {},
     "output_type": "execute_result"
    }
   ],
   "source": [
    "# Take a random sample to get a sneak-peak of the data and its values\n",
    "np.random.seed(1)\n",
    "df.sample(n=10)"
   ]
  },
  {
   "cell_type": "code",
   "execution_count": 88,
   "metadata": {},
   "outputs": [
    {
     "name": "stdout",
     "output_type": "stream",
     "text": [
      "Types of variables in dataframe:\n",
      "<class 'pandas.core.frame.DataFrame'>\n",
      "RangeIndex: 398 entries, 0 to 397\n",
      "Data columns (total 9 columns):\n",
      " #   Column        Non-Null Count  Dtype  \n",
      "---  ------        --------------  -----  \n",
      " 0   mpg           398 non-null    float64\n",
      " 1   cylinders     398 non-null    int64  \n",
      " 2   displacement  398 non-null    float64\n",
      " 3   horsepower    398 non-null    object \n",
      " 4   weight        398 non-null    int64  \n",
      " 5   acceleration  398 non-null    float64\n",
      " 6   model year    398 non-null    int64  \n",
      " 7   origin        398 non-null    int64  \n",
      " 8   car name      398 non-null    object \n",
      "dtypes: float64(3), int64(4), object(2)\n",
      "memory usage: 28.1+ KB\n",
      "None\n",
      "\n",
      "Shape of dataframe:\n",
      "(398, 9)\n",
      "\n",
      "5 Point analysis of numerical variables in dataframe:\n",
      "              count         mean         std     min       25%     50%  \\\n",
      "mpg           398.0    23.514573    7.815984     9.0    17.500    23.0   \n",
      "cylinders     398.0     5.454774    1.701004     3.0     4.000     4.0   \n",
      "displacement  398.0   193.425879  104.269838    68.0   104.250   148.5   \n",
      "weight        398.0  2970.424623  846.841774  1613.0  2223.750  2803.5   \n",
      "acceleration  398.0    15.568090    2.757689     8.0    13.825    15.5   \n",
      "model year    398.0    76.010050    3.697627    70.0    73.000    76.0   \n",
      "origin        398.0     1.572864    0.802055     1.0     1.000     1.0   \n",
      "\n",
      "                   75%     max  \n",
      "mpg             29.000    46.6  \n",
      "cylinders        8.000     8.0  \n",
      "displacement   262.000   455.0  \n",
      "weight        3608.000  5140.0  \n",
      "acceleration    17.175    24.8  \n",
      "model year      79.000    82.0  \n",
      "origin           2.000     3.0  \n",
      "\n",
      "Number of null values in dataframe:\n",
      "mpg             0\n",
      "cylinders       0\n",
      "displacement    0\n",
      "horsepower      0\n",
      "weight          0\n",
      "acceleration    0\n",
      "model year      0\n",
      "origin          0\n",
      "car name        0\n",
      "dtype: int64\n"
     ]
    }
   ],
   "source": [
    "# Some preliminary information about the data set and its distribution\n",
    "print('Types of variables in dataframe:')\n",
    "print(df.info())\n",
    "print('\\nShape of dataframe:')\n",
    "print(df.shape)\n",
    "print('\\n5 Point analysis of numerical variables in dataframe:')\n",
    "print(df.describe().T)\n",
    "print('\\nNumber of null values in dataframe:')\n",
    "print(df.isnull().sum())"
   ]
  },
  {
   "cell_type": "code",
   "execution_count": 89,
   "metadata": {},
   "outputs": [],
   "source": [
    "# Convert object variables into categorical variables\n",
    "\n",
    "for i in df.columns[df.dtypes == 'object']:\n",
    "    df[i]= df[i].astype('category')\n",
    "\n",
    "df['cylinders'] = df['cylinders'].astype('category')"
   ]
  },
  {
   "cell_type": "code",
   "execution_count": 90,
   "metadata": {},
   "outputs": [],
   "source": [
    "# You may notice column 'Horsepower' as an object, the reason behind this is we have 6 values as '?'. So we will use a KNN\n",
    "# imputer to get rid of that and then turn them into integers.\n",
    "imputer = KNNImputer(n_neighbors=5)\n",
    "df['horsepower'].replace('?', np.nan, inplace=True)\n",
    "df[['horsepower']] = imputer.fit_transform(df[['horsepower']])\n",
    "df['horsepower'] = df['horsepower'].astype('int')"
   ]
  },
  {
   "cell_type": "code",
   "execution_count": 91,
   "metadata": {},
   "outputs": [],
   "source": [
    "# Let us extract the brand of car from the full name. Notice how the car name starts with the brand\n",
    "def get_Brand(value):\n",
    "    return(value.split()[0])\n",
    "\n",
    "df['Brand'] = df['car name'].apply(get_Brand).astype('category')\n",
    "df.drop(columns = 'car name', inplace = True)"
   ]
  },
  {
   "cell_type": "code",
   "execution_count": 92,
   "metadata": {
    "scrolled": false
   },
   "outputs": [
    {
     "data": {
      "image/png": "[encoded data removed]",
      "text/plain": [
       "<Figure size 1440x720 with 2 Axes>"
      ]
     },
     "metadata": {
      "needs_background": "light"
     },
     "output_type": "display_data"
    }
   ],
   "source": [
    "# Let us better visualize the relationship between variables with a heatmap\n",
    "numeric_columns = df.select_dtypes(include=np.number).columns.tolist()\n",
    "corr = df[numeric_columns].corr()\n",
    "\n",
    "f, ax = plt.subplots(figsize=(20, 10)) #Set heatmap size\n",
    "\n",
    "sns.heatmap(corr, annot=True,fmt=\".1f\",vmin=-1, vmax=1, center= 0, square=False, linewidths=.7, cbar_kws={\"shrink\": .5});"
   ]
  },
  {
   "cell_type": "code",
   "execution_count": 96,
   "metadata": {},
   "outputs": [],
   "source": [
    "# Standarize data and divide into features and response variable \n",
    "X = df.drop(columns = ['cylinders', 'mpg'])\n",
    "y_main = df[['mpg', 'cylinders']]\n",
    "def z_transform(x):\n",
    "    return (x - np.mean(x)) / np.std(x)\n",
    "\n",
    "for i in ['displacement', 'horsepower', 'weight', 'acceleration','model year', 'origin']:\n",
    "    X[i] = z_transform(X[i])\n",
    "X = pd.get_dummies(X)"
   ]
  },
  {
   "cell_type": "code",
   "execution_count": 97,
   "metadata": {},
   "outputs": [],
   "source": [
    "# We require a testing set and both a training and validation set for our neural network, so let us divide the data\n",
    "X_temp, X_test, y_temp, y_test = train_test_split(X, y_main, test_size=0.2, random_state=1)\n",
    "X_train, X_val, y_train, y_val = train_test_split(X_temp, y_temp, test_size=0.2, random_state=1)"
   ]
  },
  {
   "cell_type": "code",
   "execution_count": 98,
   "metadata": {},
   "outputs": [],
   "source": [
    "# We also need to divide the response dataframe into two, and then get dummies for the categorical section of the network\n",
    "y_test_main = y_test[['mpg']]\n",
    "y_test_aux = y_test[['cylinders']]\n",
    "y_train_main = y_train[['mpg']]\n",
    "y_train_aux = y_train[['cylinders']]\n",
    "y_val_main = y_val[['mpg']]\n",
    "y_val_aux = y_val[['cylinders']]\n",
    "\n",
    "y_test_aux = pd.get_dummies(y_test_aux)\n",
    "y_train_aux = pd.get_dummies(y_train_aux)\n",
    "y_val_aux = pd.get_dummies(y_val_aux)"
   ]
  },
  {
   "cell_type": "code",
   "execution_count": 102,
   "metadata": {},
   "outputs": [
    {
     "name": "stdout",
     "output_type": "stream",
     "text": [
      "<class 'pandas.core.frame.DataFrame'>\n",
      "Int64Index: 254 entries, 373 to 171\n",
      "Data columns (total 43 columns):\n",
      " #   Column               Non-Null Count  Dtype  \n",
      "---  ------               --------------  -----  \n",
      " 0   displacement         254 non-null    float64\n",
      " 1   horsepower           254 non-null    float64\n",
      " 2   weight               254 non-null    float64\n",
      " 3   acceleration         254 non-null    float64\n",
      " 4   model year           254 non-null    float64\n",
      " 5   origin               254 non-null    float64\n",
      " 6   Brand_amc            254 non-null    uint8  \n",
      " 7   Brand_audi           254 non-null    uint8  \n",
      " 8   Brand_bmw            254 non-null    uint8  \n",
      " 9   Brand_buick          254 non-null    uint8  \n",
      " 10  Brand_cadillac       254 non-null    uint8  \n",
      " 11  Brand_capri          254 non-null    uint8  \n",
      " 12  Brand_chevroelt      254 non-null    uint8  \n",
      " 13  Brand_chevrolet      254 non-null    uint8  \n",
      " 14  Brand_chevy          254 non-null    uint8  \n",
      " 15  Brand_chrysler       254 non-null    uint8  \n",
      " 16  Brand_datsun         254 non-null    uint8  \n",
      " 17  Brand_dodge          254 non-null    uint8  \n",
      " 18  Brand_fiat           254 non-null    uint8  \n",
      " 19  Brand_ford           254 non-null    uint8  \n",
      " 20  Brand_hi             254 non-null    uint8  \n",
      " 21  Brand_honda          254 non-null    uint8  \n",
      " 22  Brand_maxda          254 non-null    uint8  \n",
      " 23  Brand_mazda          254 non-null    uint8  \n",
      " 24  Brand_mercedes       254 non-null    uint8  \n",
      " 25  Brand_mercedes-benz  254 non-null    uint8  \n",
      " 26  Brand_mercury        254 non-null    uint8  \n",
      " 27  Brand_nissan         254 non-null    uint8  \n",
      " 28  Brand_oldsmobile     254 non-null    uint8  \n",
      " 29  Brand_opel           254 non-null    uint8  \n",
      " 30  Brand_peugeot        254 non-null    uint8  \n",
      " 31  Brand_plymouth       254 non-null    uint8  \n",
      " 32  Brand_pontiac        254 non-null    uint8  \n",
      " 33  Brand_renault        254 non-null    uint8  \n",
      " 34  Brand_saab           254 non-null    uint8  \n",
      " 35  Brand_subaru         254 non-null    uint8  \n",
      " 36  Brand_toyota         254 non-null    uint8  \n",
      " 37  Brand_toyouta        254 non-null    uint8  \n",
      " 38  Brand_triumph        254 non-null    uint8  \n",
      " 39  Brand_vokswagen      254 non-null    uint8  \n",
      " 40  Brand_volkswagen     254 non-null    uint8  \n",
      " 41  Brand_volvo          254 non-null    uint8  \n",
      " 42  Brand_vw             254 non-null    uint8  \n",
      "dtypes: float64(6), uint8(37)\n",
      "memory usage: 23.1 KB\n"
     ]
    }
   ],
   "source": [
    "# Just to check all varibales are numerical\n",
    "X_train.info()"
   ]
  },
  {
   "cell_type": "code",
   "execution_count": 150,
   "metadata": {},
   "outputs": [],
   "source": [
    "# We create a very simple model with three hidden layers\n",
    "input_ = keras.layers.Input(shape=X.shape[1:]) # We need to pass the number of columns in X\n",
    "hidden1 = keras.layers.Dense(100, activation=\"relu\")(input_) # First hidden layer with 100 nodes\n",
    "hidden2 = keras.layers.Dense(200, activation=\"relu\")(hidden1) # 200 nodes for our second layer\n",
    "hidden3 = keras.layers.Dense(300, activation=\"relu\")(hidden2) # 300 nodes for the final  layer, all using relu activation\n",
    "aux_output = keras.layers.Dense(5, activation=\"softmax\", name=\"aux_output\")(hidden3) # Aux output, categorical so it needs\n",
    "# a softmax activation function\n",
    "output = keras.layers.Dense(1, name=\"main_output\")(hidden3) # Main output, does not require activation function since it is\n",
    "# a regression node\n",
    "model = keras.Model(inputs=[input_], outputs=[output, aux_output]) # combine all of our layer\n",
    "model.compile(loss=[\"mse\", \"categorical_crossentropy\"], loss_weights=[0.6, 0.4], optimizer=\"sgd\", \n",
    "              metrics = ['mse', 'accuracy']) # Provide the loss functions to our model, the weights of the erros for each \n",
    "# output layer and the optimizer to use. We also want mse for regression performance and accuracy for the classification one"
   ]
  },
  {
   "cell_type": "code",
   "execution_count": 151,
   "metadata": {
    "scrolled": true
   },
   "outputs": [
    {
     "name": "stdout",
     "output_type": "stream",
     "text": [
      "Epoch 1/50\n",
      "8/8 [==============================] - 1s 26ms/step - loss: 250.9836 - main_output_loss: 417.3022 - aux_output_loss: 1.5057 - main_output_mse: 417.3022 - main_output_accuracy: 0.0000e+00 - aux_output_mse: 0.1507 - aux_output_accuracy: 0.4449 - val_loss: 169.8255 - val_main_output_loss: 282.0436 - val_aux_output_loss: 1.4982 - val_main_output_mse: 282.0436 - val_main_output_accuracy: 0.0000e+00 - val_aux_output_mse: 0.1506 - val_aux_output_accuracy: 0.5000\n",
      "Epoch 2/50\n",
      "8/8 [==============================] - 0s 3ms/step - loss: 167.6314 - main_output_loss: 278.4583 - aux_output_loss: 1.3910 - main_output_mse: 278.4583 - main_output_accuracy: 0.0000e+00 - aux_output_mse: 0.1394 - aux_output_accuracy: 0.5197 - val_loss: 69.5027 - val_main_output_loss: 114.9175 - val_aux_output_loss: 1.3805 - val_main_output_mse: 114.9175 - val_main_output_accuracy: 0.0000e+00 - val_aux_output_mse: 0.1376 - val_aux_output_accuracy: 0.5000\n",
      "Epoch 3/50\n",
      "8/8 [==============================] - 0s 4ms/step - loss: 40.3764 - main_output_loss: 66.4677 - aux_output_loss: 1.2396 - main_output_mse: 66.4677 - main_output_accuracy: 0.0000e+00 - aux_output_mse: 0.1220 - aux_output_accuracy: 0.5197 - val_loss: 24.6982 - val_main_output_loss: 40.3430 - val_aux_output_loss: 1.2308 - val_main_output_mse: 40.3430 - val_main_output_accuracy: 0.0000e+00 - val_aux_output_mse: 0.1213 - val_aux_output_accuracy: 0.5000\n",
      "Epoch 4/50\n",
      "8/8 [==============================] - 0s 4ms/step - loss: 23.0214 - main_output_loss: 37.6011 - aux_output_loss: 1.1519 - main_output_mse: 37.6011 - main_output_accuracy: 0.0000e+00 - aux_output_mse: 0.1132 - aux_output_accuracy: 0.5197 - val_loss: 10.8693 - val_main_output_loss: 17.3785 - val_aux_output_loss: 1.1056 - val_main_output_mse: 17.3785 - val_main_output_accuracy: 0.0000e+00 - val_aux_output_mse: 0.1089 - val_aux_output_accuracy: 0.5000\n",
      "Epoch 5/50\n",
      "8/8 [==============================] - 0s 4ms/step - loss: 11.7720 - main_output_loss: 18.8957 - aux_output_loss: 1.0864 - main_output_mse: 18.8957 - main_output_accuracy: 0.0000e+00 - aux_output_mse: 0.1068 - aux_output_accuracy: 0.5197 - val_loss: 6.5603 - val_main_output_loss: 10.2070 - val_aux_output_loss: 1.0903 - val_main_output_mse: 10.2070 - val_main_output_accuracy: 0.0000e+00 - val_aux_output_mse: 0.1077 - val_aux_output_accuracy: 0.5000\n",
      "Epoch 6/50\n",
      "8/8 [==============================] - 0s 3ms/step - loss: 20.3957 - main_output_loss: 33.2828 - aux_output_loss: 1.0649 - main_output_mse: 33.2828 - main_output_accuracy: 0.0000e+00 - aux_output_mse: 0.1057 - aux_output_accuracy: 0.5197 - val_loss: 4.7962 - val_main_output_loss: 7.2898 - val_aux_output_loss: 1.0557 - val_main_output_mse: 7.2898 - val_main_output_accuracy: 0.0000e+00 - val_aux_output_mse: 0.1055 - val_aux_output_accuracy: 0.5000\n",
      "Epoch 7/50\n",
      "8/8 [==============================] - 0s 4ms/step - loss: 13.4364 - main_output_loss: 21.7144 - aux_output_loss: 1.0195 - main_output_mse: 21.7144 - main_output_accuracy: 0.0000e+00 - aux_output_mse: 0.1014 - aux_output_accuracy: 0.5197 - val_loss: 65.7076 - val_main_output_loss: 108.7366 - val_aux_output_loss: 1.1641 - val_main_output_mse: 108.7366 - val_main_output_accuracy: 0.0000e+00 - val_aux_output_mse: 0.1172 - val_aux_output_accuracy: 0.5000\n",
      "Epoch 8/50\n",
      "8/8 [==============================] - 0s 3ms/step - loss: 15.3448 - main_output_loss: 24.8925 - aux_output_loss: 1.0231 - main_output_mse: 24.8925 - main_output_accuracy: 0.0000e+00 - aux_output_mse: 0.1020 - aux_output_accuracy: 0.5197 - val_loss: 4.8390 - val_main_output_loss: 7.3900 - val_aux_output_loss: 1.0125 - val_main_output_mse: 7.3900 - val_main_output_accuracy: 0.0000e+00 - val_aux_output_mse: 0.1021 - val_aux_output_accuracy: 0.5000\n",
      "Epoch 9/50\n",
      "8/8 [==============================] - 0s 3ms/step - loss: 11.9694 - main_output_loss: 19.2881 - aux_output_loss: 0.9913 - main_output_mse: 19.2881 - main_output_accuracy: 0.0000e+00 - aux_output_mse: 0.0994 - aux_output_accuracy: 0.5197 - val_loss: 5.2525 - val_main_output_loss: 8.0776 - val_aux_output_loss: 1.0148 - val_main_output_mse: 8.0776 - val_main_output_accuracy: 0.0000e+00 - val_aux_output_mse: 0.1030 - val_aux_output_accuracy: 0.5000\n",
      "Epoch 10/50\n",
      "8/8 [==============================] - 0s 3ms/step - loss: 5.8829 - main_output_loss: 9.1581 - aux_output_loss: 0.9702 - main_output_mse: 9.1581 - main_output_accuracy: 0.0000e+00 - aux_output_mse: 0.0974 - aux_output_accuracy: 0.5197 - val_loss: 7.5301 - val_main_output_loss: 11.8791 - val_aux_output_loss: 1.0067 - val_main_output_mse: 11.8791 - val_main_output_accuracy: 0.0000e+00 - val_aux_output_mse: 0.1017 - val_aux_output_accuracy: 0.5000\n",
      "Epoch 11/50\n",
      "8/8 [==============================] - 0s 3ms/step - loss: 10.3585 - main_output_loss: 16.6204 - aux_output_loss: 0.9655 - main_output_mse: 16.6204 - main_output_accuracy: 0.0000e+00 - aux_output_mse: 0.0972 - aux_output_accuracy: 0.5197 - val_loss: 8.2417 - val_main_output_loss: 13.0737 - val_aux_output_loss: 0.9936 - val_main_output_mse: 13.0737 - val_main_output_accuracy: 0.0000e+00 - val_aux_output_mse: 0.1006 - val_aux_output_accuracy: 0.5000\n",
      "Epoch 12/50\n",
      "8/8 [==============================] - 0s 3ms/step - loss: 4.1697 - main_output_loss: 6.3219 - aux_output_loss: 0.9413 - main_output_mse: 6.3219 - main_output_accuracy: 0.0000e+00 - aux_output_mse: 0.0948 - aux_output_accuracy: 0.5197 - val_loss: 5.0198 - val_main_output_loss: 7.7156 - val_aux_output_loss: 0.9761 - val_main_output_mse: 7.7156 - val_main_output_accuracy: 0.0000e+00 - val_aux_output_mse: 0.1000 - val_aux_output_accuracy: 0.5000\n",
      "Epoch 13/50\n",
      "8/8 [==============================] - 0s 4ms/step - loss: 4.0037 - main_output_loss: 6.0530 - aux_output_loss: 0.9297 - main_output_mse: 6.0530 - main_output_accuracy: 0.0000e+00 - aux_output_mse: 0.0944 - aux_output_accuracy: 0.5197 - val_loss: 8.9325 - val_main_output_loss: 14.2380 - val_aux_output_loss: 0.9743 - val_main_output_mse: 14.2380 - val_main_output_accuracy: 0.0000e+00 - val_aux_output_mse: 0.0996 - val_aux_output_accuracy: 0.5000\n",
      "Epoch 14/50\n",
      "8/8 [==============================] - 0s 3ms/step - loss: 6.1851 - main_output_loss: 9.6945 - aux_output_loss: 0.9210 - main_output_mse: 9.6945 - main_output_accuracy: 0.0000e+00 - aux_output_mse: 0.0938 - aux_output_accuracy: 0.5236 - val_loss: 7.4637 - val_main_output_loss: 11.8032 - val_aux_output_loss: 0.9544 - val_main_output_mse: 11.8032 - val_main_output_accuracy: 0.0000e+00 - val_aux_output_mse: 0.0979 - val_aux_output_accuracy: 0.5000\n",
      "Epoch 15/50\n",
      "8/8 [==============================] - 0s 4ms/step - loss: 4.5876 - main_output_loss: 7.0416 - aux_output_loss: 0.9067 - main_output_mse: 7.0416 - main_output_accuracy: 0.0000e+00 - aux_output_mse: 0.0924 - aux_output_accuracy: 0.5354 - val_loss: 4.8480 - val_main_output_loss: 7.4580 - val_aux_output_loss: 0.9329 - val_main_output_mse: 7.4580 - val_main_output_accuracy: 0.0000e+00 - val_aux_output_mse: 0.0965 - val_aux_output_accuracy: 0.5312\n",
      "Epoch 16/50\n",
      "8/8 [==============================] - 0s 4ms/step - loss: 8.6293 - main_output_loss: 13.7799 - aux_output_loss: 0.9034 - main_output_mse: 13.7799 - main_output_accuracy: 0.0000e+00 - aux_output_mse: 0.0923 - aux_output_accuracy: 0.5354 - val_loss: 19.9174 - val_main_output_loss: 32.5502 - val_aux_output_loss: 0.9682 - val_main_output_mse: 32.5502 - val_main_output_accuracy: 0.0000e+00 - val_aux_output_mse: 0.0993 - val_aux_output_accuracy: 0.5625\n",
      "Epoch 17/50\n",
      "8/8 [==============================] - 0s 3ms/step - loss: 6.6335 - main_output_loss: 10.4611 - aux_output_loss: 0.8921 - main_output_mse: 10.4611 - main_output_accuracy: 0.0000e+00 - aux_output_mse: 0.0913 - aux_output_accuracy: 0.5630 - val_loss: 6.4526 - val_main_output_loss: 10.1389 - val_aux_output_loss: 0.9231 - val_main_output_mse: 10.1389 - val_main_output_accuracy: 0.0000e+00 - val_aux_output_mse: 0.0953 - val_aux_output_accuracy: 0.5625\n",
      "Epoch 18/50\n",
      "8/8 [==============================] - 0s 3ms/step - loss: 4.9987 - main_output_loss: 7.7490 - aux_output_loss: 0.8732 - main_output_mse: 7.7490 - main_output_accuracy: 0.0000e+00 - aux_output_mse: 0.0892 - aux_output_accuracy: 0.5945 - val_loss: 5.7558 - val_main_output_loss: 8.9793 - val_aux_output_loss: 0.9205 - val_main_output_mse: 8.9793 - val_main_output_accuracy: 0.0000e+00 - val_aux_output_mse: 0.0956 - val_aux_output_accuracy: 0.5625\n"
     ]
    },
    {
     "name": "stdout",
     "output_type": "stream",
     "text": [
      "Epoch 19/50\n",
      "8/8 [==============================] - 0s 4ms/step - loss: 3.6583 - main_output_loss: 5.5190 - aux_output_loss: 0.8673 - main_output_mse: 5.5190 - main_output_accuracy: 0.0000e+00 - aux_output_mse: 0.0889 - aux_output_accuracy: 0.6142 - val_loss: 5.0048 - val_main_output_loss: 7.7446 - val_aux_output_loss: 0.8953 - val_main_output_mse: 7.7446 - val_main_output_accuracy: 0.0000e+00 - val_aux_output_mse: 0.0938 - val_aux_output_accuracy: 0.5625\n",
      "Epoch 20/50\n",
      "8/8 [==============================] - 0s 3ms/step - loss: 5.3597 - main_output_loss: 8.3639 - aux_output_loss: 0.8533 - main_output_mse: 8.3639 - main_output_accuracy: 0.0000e+00 - aux_output_mse: 0.0875 - aux_output_accuracy: 0.6220 - val_loss: 5.6952 - val_main_output_loss: 8.9058 - val_aux_output_loss: 0.8795 - val_main_output_mse: 8.9058 - val_main_output_accuracy: 0.0000e+00 - val_aux_output_mse: 0.0921 - val_aux_output_accuracy: 0.5625\n",
      "Epoch 21/50\n",
      "8/8 [==============================] - 0s 3ms/step - loss: 5.2782 - main_output_loss: 8.2339 - aux_output_loss: 0.8446 - main_output_mse: 8.2339 - main_output_accuracy: 0.0000e+00 - aux_output_mse: 0.0868 - aux_output_accuracy: 0.6378 - val_loss: 5.9440 - val_main_output_loss: 9.3304 - val_aux_output_loss: 0.8643 - val_main_output_mse: 9.3304 - val_main_output_accuracy: 0.0000e+00 - val_aux_output_mse: 0.0907 - val_aux_output_accuracy: 0.6250\n",
      "Epoch 22/50\n",
      "8/8 [==============================] - 0s 4ms/step - loss: 4.6930 - main_output_loss: 7.2652 - aux_output_loss: 0.8347 - main_output_mse: 7.2652 - main_output_accuracy: 0.0000e+00 - aux_output_mse: 0.0857 - aux_output_accuracy: 0.6654 - val_loss: 5.5714 - val_main_output_loss: 8.6988 - val_aux_output_loss: 0.8803 - val_main_output_mse: 8.6988 - val_main_output_accuracy: 0.0000e+00 - val_aux_output_mse: 0.0921 - val_aux_output_accuracy: 0.6250\n",
      "Epoch 23/50\n",
      "8/8 [==============================] - 0s 3ms/step - loss: 3.2361 - main_output_loss: 4.8439 - aux_output_loss: 0.8244 - main_output_mse: 4.8439 - main_output_accuracy: 0.0000e+00 - aux_output_mse: 0.0845 - aux_output_accuracy: 0.6732 - val_loss: 5.6746 - val_main_output_loss: 8.8854 - val_aux_output_loss: 0.8583 - val_main_output_mse: 8.8854 - val_main_output_accuracy: 0.0000e+00 - val_aux_output_mse: 0.0904 - val_aux_output_accuracy: 0.6250\n",
      "Epoch 24/50\n",
      "8/8 [==============================] - 0s 4ms/step - loss: 5.4111 - main_output_loss: 8.4730 - aux_output_loss: 0.8181 - main_output_mse: 8.4730 - main_output_accuracy: 0.0000e+00 - aux_output_mse: 0.0840 - aux_output_accuracy: 0.6732 - val_loss: 4.7865 - val_main_output_loss: 7.4074 - val_aux_output_loss: 0.8552 - val_main_output_mse: 7.4074 - val_main_output_accuracy: 0.0000e+00 - val_aux_output_mse: 0.0895 - val_aux_output_accuracy: 0.6250\n",
      "Epoch 25/50\n",
      "8/8 [==============================] - 0s 4ms/step - loss: 2.9430 - main_output_loss: 4.3672 - aux_output_loss: 0.8066 - main_output_mse: 4.3672 - main_output_accuracy: 0.0000e+00 - aux_output_mse: 0.0826 - aux_output_accuracy: 0.6850 - val_loss: 4.7954 - val_main_output_loss: 7.4291 - val_aux_output_loss: 0.8449 - val_main_output_mse: 7.4291 - val_main_output_accuracy: 0.0000e+00 - val_aux_output_mse: 0.0885 - val_aux_output_accuracy: 0.6406\n",
      "Epoch 26/50\n",
      "8/8 [==============================] - 0s 3ms/step - loss: 3.0208 - main_output_loss: 4.5020 - aux_output_loss: 0.7991 - main_output_mse: 4.5020 - main_output_accuracy: 0.0000e+00 - aux_output_mse: 0.0819 - aux_output_accuracy: 0.6811 - val_loss: 7.3649 - val_main_output_loss: 11.7046 - val_aux_output_loss: 0.8553 - val_main_output_mse: 11.7046 - val_main_output_accuracy: 0.0000e+00 - val_aux_output_mse: 0.0889 - val_aux_output_accuracy: 0.6562\n",
      "Epoch 27/50\n",
      "8/8 [==============================] - 0s 3ms/step - loss: 3.7795 - main_output_loss: 5.7700 - aux_output_loss: 0.7937 - main_output_mse: 5.7700 - main_output_accuracy: 0.0000e+00 - aux_output_mse: 0.0814 - aux_output_accuracy: 0.6929 - val_loss: 4.9079 - val_main_output_loss: 7.6232 - val_aux_output_loss: 0.8349 - val_main_output_mse: 7.6232 - val_main_output_accuracy: 0.0000e+00 - val_aux_output_mse: 0.0872 - val_aux_output_accuracy: 0.6562\n",
      "Epoch 28/50\n",
      "8/8 [==============================] - 0s 4ms/step - loss: 4.5054 - main_output_loss: 6.9841 - aux_output_loss: 0.7872 - main_output_mse: 6.9841 - main_output_accuracy: 0.0000e+00 - aux_output_mse: 0.0805 - aux_output_accuracy: 0.7126 - val_loss: 20.4499 - val_main_output_loss: 33.5076 - val_aux_output_loss: 0.8634 - val_main_output_mse: 33.5076 - val_main_output_accuracy: 0.0000e+00 - val_aux_output_mse: 0.0887 - val_aux_output_accuracy: 0.6875\n",
      "Epoch 29/50\n",
      "8/8 [==============================] - 0s 3ms/step - loss: 5.1015 - main_output_loss: 7.9833 - aux_output_loss: 0.7787 - main_output_mse: 7.9833 - main_output_accuracy: 0.0000e+00 - aux_output_mse: 0.0792 - aux_output_accuracy: 0.7244 - val_loss: 5.1227 - val_main_output_loss: 7.9840 - val_aux_output_loss: 0.8307 - val_main_output_mse: 7.9840 - val_main_output_accuracy: 0.0000e+00 - val_aux_output_mse: 0.0870 - val_aux_output_accuracy: 0.6562\n",
      "Epoch 30/50\n",
      "8/8 [==============================] - 0s 3ms/step - loss: 3.7592 - main_output_loss: 5.7521 - aux_output_loss: 0.7700 - main_output_mse: 5.7521 - main_output_accuracy: 0.0000e+00 - aux_output_mse: 0.0786 - aux_output_accuracy: 0.7205 - val_loss: 6.9212 - val_main_output_loss: 10.9864 - val_aux_output_loss: 0.8235 - val_main_output_mse: 10.9864 - val_main_output_accuracy: 0.0000e+00 - val_aux_output_mse: 0.0853 - val_aux_output_accuracy: 0.6875\n",
      "Epoch 31/50\n",
      "8/8 [==============================] - 0s 3ms/step - loss: 4.4629 - main_output_loss: 6.9286 - aux_output_loss: 0.7644 - main_output_mse: 6.9286 - main_output_accuracy: 0.0000e+00 - aux_output_mse: 0.0778 - aux_output_accuracy: 0.7244 - val_loss: 4.8814 - val_main_output_loss: 7.6003 - val_aux_output_loss: 0.8031 - val_main_output_mse: 7.6003 - val_main_output_accuracy: 0.0000e+00 - val_aux_output_mse: 0.0841 - val_aux_output_accuracy: 0.6562\n",
      "Epoch 32/50\n",
      "8/8 [==============================] - 0s 3ms/step - loss: 4.3331 - main_output_loss: 6.7229 - aux_output_loss: 0.7483 - main_output_mse: 6.7229 - main_output_accuracy: 0.0000e+00 - aux_output_mse: 0.0760 - aux_output_accuracy: 0.7205 - val_loss: 7.3231 - val_main_output_loss: 11.6665 - val_aux_output_loss: 0.8079 - val_main_output_mse: 11.6665 - val_main_output_accuracy: 0.0000e+00 - val_aux_output_mse: 0.0836 - val_aux_output_accuracy: 0.6875\n",
      "Epoch 33/50\n",
      "8/8 [==============================] - 0s 3ms/step - loss: 5.1513 - main_output_loss: 8.0895 - aux_output_loss: 0.7441 - main_output_mse: 8.0895 - main_output_accuracy: 0.0000e+00 - aux_output_mse: 0.0755 - aux_output_accuracy: 0.7205 - val_loss: 5.1808 - val_main_output_loss: 8.1050 - val_aux_output_loss: 0.7945 - val_main_output_mse: 8.1050 - val_main_output_accuracy: 0.0000e+00 - val_aux_output_mse: 0.0827 - val_aux_output_accuracy: 0.6875\n",
      "Epoch 34/50\n",
      "8/8 [==============================] - 0s 3ms/step - loss: 2.7977 - main_output_loss: 4.1707 - aux_output_loss: 0.7382 - main_output_mse: 4.1707 - main_output_accuracy: 0.0000e+00 - aux_output_mse: 0.0749 - aux_output_accuracy: 0.7244 - val_loss: 6.2612 - val_main_output_loss: 9.9072 - val_aux_output_loss: 0.7923 - val_main_output_mse: 9.9072 - val_main_output_accuracy: 0.0000e+00 - val_aux_output_mse: 0.0820 - val_aux_output_accuracy: 0.6875\n",
      "Epoch 35/50\n",
      "8/8 [==============================] - 0s 4ms/step - loss: 3.1007 - main_output_loss: 4.6820 - aux_output_loss: 0.7287 - main_output_mse: 4.6820 - main_output_accuracy: 0.0000e+00 - aux_output_mse: 0.0736 - aux_output_accuracy: 0.7323 - val_loss: 5.6747 - val_main_output_loss: 8.9356 - val_aux_output_loss: 0.7834 - val_main_output_mse: 8.9356 - val_main_output_accuracy: 0.0000e+00 - val_aux_output_mse: 0.0812 - val_aux_output_accuracy: 0.6875\n",
      "Epoch 36/50\n",
      "8/8 [==============================] - 0s 3ms/step - loss: 3.0356 - main_output_loss: 4.5757 - aux_output_loss: 0.7256 - main_output_mse: 4.5757 - main_output_accuracy: 0.0000e+00 - aux_output_mse: 0.0732 - aux_output_accuracy: 0.7283 - val_loss: 6.4340 - val_main_output_loss: 10.2021 - val_aux_output_loss: 0.7818 - val_main_output_mse: 10.2021 - val_main_output_accuracy: 0.0000e+00 - val_aux_output_mse: 0.0809 - val_aux_output_accuracy: 0.6875\n"
     ]
    },
    {
     "name": "stdout",
     "output_type": "stream",
     "text": [
      "Epoch 37/50\n",
      "8/8 [==============================] - 0s 3ms/step - loss: 2.4269 - main_output_loss: 3.5687 - aux_output_loss: 0.7143 - main_output_mse: 3.5687 - main_output_accuracy: 0.0000e+00 - aux_output_mse: 0.0720 - aux_output_accuracy: 0.7323 - val_loss: 5.1493 - val_main_output_loss: 8.0693 - val_aux_output_loss: 0.7691 - val_main_output_mse: 8.0693 - val_main_output_accuracy: 0.0000e+00 - val_aux_output_mse: 0.0809 - val_aux_output_accuracy: 0.6875\n",
      "Epoch 38/50\n",
      "8/8 [==============================] - 0s 3ms/step - loss: 2.6372 - main_output_loss: 3.9207 - aux_output_loss: 0.7120 - main_output_mse: 3.9207 - main_output_accuracy: 0.0000e+00 - aux_output_mse: 0.0717 - aux_output_accuracy: 0.7323 - val_loss: 5.6692 - val_main_output_loss: 8.9331 - val_aux_output_loss: 0.7734 - val_main_output_mse: 8.9331 - val_main_output_accuracy: 0.0000e+00 - val_aux_output_mse: 0.0808 - val_aux_output_accuracy: 0.6875\n",
      "Epoch 39/50\n",
      "8/8 [==============================] - 0s 3ms/step - loss: 3.1790 - main_output_loss: 4.8285 - aux_output_loss: 0.7049 - main_output_mse: 4.8285 - main_output_accuracy: 0.0000e+00 - aux_output_mse: 0.0712 - aux_output_accuracy: 0.7323 - val_loss: 4.7535 - val_main_output_loss: 7.4168 - val_aux_output_loss: 0.7585 - val_main_output_mse: 7.4168 - val_main_output_accuracy: 0.0000e+00 - val_aux_output_mse: 0.0791 - val_aux_output_accuracy: 0.6875\n",
      "Epoch 40/50\n",
      "8/8 [==============================] - 0s 3ms/step - loss: 3.4789 - main_output_loss: 5.3319 - aux_output_loss: 0.6994 - main_output_mse: 5.3319 - main_output_accuracy: 0.0000e+00 - aux_output_mse: 0.0703 - aux_output_accuracy: 0.7323 - val_loss: 7.0184 - val_main_output_loss: 11.1858 - val_aux_output_loss: 0.7673 - val_main_output_mse: 11.1858 - val_main_output_accuracy: 0.0000e+00 - val_aux_output_mse: 0.0794 - val_aux_output_accuracy: 0.6875\n",
      "Epoch 41/50\n",
      "8/8 [==============================] - 0s 3ms/step - loss: 3.3929 - main_output_loss: 5.1923 - aux_output_loss: 0.6939 - main_output_mse: 5.1923 - main_output_accuracy: 0.0000e+00 - aux_output_mse: 0.0696 - aux_output_accuracy: 0.7323 - val_loss: 7.8887 - val_main_output_loss: 12.6355 - val_aux_output_loss: 0.7684 - val_main_output_mse: 12.6355 - val_main_output_accuracy: 0.0000e+00 - val_aux_output_mse: 0.0794 - val_aux_output_accuracy: 0.6875\n",
      "Epoch 42/50\n",
      "8/8 [==============================] - 0s 3ms/step - loss: 2.5658 - main_output_loss: 3.8191 - aux_output_loss: 0.6860 - main_output_mse: 3.8191 - main_output_accuracy: 0.0000e+00 - aux_output_mse: 0.0688 - aux_output_accuracy: 0.7323 - val_loss: 4.4616 - val_main_output_loss: 6.9444 - val_aux_output_loss: 0.7374 - val_main_output_mse: 6.9444 - val_main_output_accuracy: 0.0000e+00 - val_aux_output_mse: 0.0766 - val_aux_output_accuracy: 0.6875\n",
      "Epoch 43/50\n",
      "8/8 [==============================] - 0s 4ms/step - loss: 2.7887 - main_output_loss: 4.1986 - aux_output_loss: 0.6739 - main_output_mse: 4.1986 - main_output_accuracy: 0.0000e+00 - aux_output_mse: 0.0674 - aux_output_accuracy: 0.7362 - val_loss: 7.7473 - val_main_output_loss: 12.4060 - val_aux_output_loss: 0.7591 - val_main_output_mse: 12.4060 - val_main_output_accuracy: 0.0000e+00 - val_aux_output_mse: 0.0784 - val_aux_output_accuracy: 0.6875\n",
      "Epoch 44/50\n",
      "8/8 [==============================] - 0s 3ms/step - loss: 2.2153 - main_output_loss: 3.2409 - aux_output_loss: 0.6768 - main_output_mse: 3.2409 - main_output_accuracy: 0.0000e+00 - aux_output_mse: 0.0677 - aux_output_accuracy: 0.7402 - val_loss: 6.4316 - val_main_output_loss: 10.2226 - val_aux_output_loss: 0.7452 - val_main_output_mse: 10.2226 - val_main_output_accuracy: 0.0000e+00 - val_aux_output_mse: 0.0770 - val_aux_output_accuracy: 0.6875\n",
      "Epoch 45/50\n",
      "8/8 [==============================] - 0s 4ms/step - loss: 2.6412 - main_output_loss: 3.9582 - aux_output_loss: 0.6656 - main_output_mse: 3.9582 - main_output_accuracy: 0.0000e+00 - aux_output_mse: 0.0666 - aux_output_accuracy: 0.7402 - val_loss: 8.0424 - val_main_output_loss: 12.9022 - val_aux_output_loss: 0.7528 - val_main_output_mse: 12.9022 - val_main_output_accuracy: 0.0000e+00 - val_aux_output_mse: 0.0777 - val_aux_output_accuracy: 0.6875\n",
      "Epoch 46/50\n",
      "8/8 [==============================] - 0s 4ms/step - loss: 5.3583 - main_output_loss: 8.4836 - aux_output_loss: 0.6703 - main_output_mse: 8.4836 - main_output_accuracy: 0.0000e+00 - aux_output_mse: 0.0671 - aux_output_accuracy: 0.7402 - val_loss: 4.7275 - val_main_output_loss: 7.4087 - val_aux_output_loss: 0.7057 - val_main_output_mse: 7.4087 - val_main_output_accuracy: 0.0000e+00 - val_aux_output_mse: 0.0725 - val_aux_output_accuracy: 0.6875\n",
      "Epoch 47/50\n",
      "8/8 [==============================] - 0s 3ms/step - loss: 3.1384 - main_output_loss: 4.7921 - aux_output_loss: 0.6577 - main_output_mse: 4.7921 - main_output_accuracy: 0.0000e+00 - aux_output_mse: 0.0652 - aux_output_accuracy: 0.7480 - val_loss: 4.4316 - val_main_output_loss: 6.9103 - val_aux_output_loss: 0.7136 - val_main_output_mse: 6.9103 - val_main_output_accuracy: 0.0000e+00 - val_aux_output_mse: 0.0739 - val_aux_output_accuracy: 0.6875\n",
      "Epoch 48/50\n",
      "8/8 [==============================] - 0s 3ms/step - loss: 2.9475 - main_output_loss: 4.4788 - aux_output_loss: 0.6506 - main_output_mse: 4.4788 - main_output_accuracy: 0.0000e+00 - aux_output_mse: 0.0644 - aux_output_accuracy: 0.7441 - val_loss: 6.9304 - val_main_output_loss: 11.0638 - val_aux_output_loss: 0.7303 - val_main_output_mse: 11.0638 - val_main_output_accuracy: 0.0000e+00 - val_aux_output_mse: 0.0753 - val_aux_output_accuracy: 0.6875\n",
      "Epoch 49/50\n",
      "8/8 [==============================] - 0s 3ms/step - loss: 5.6167 - main_output_loss: 8.9223 - aux_output_loss: 0.6584 - main_output_mse: 8.9223 - main_output_accuracy: 0.0000e+00 - aux_output_mse: 0.0656 - aux_output_accuracy: 0.7441 - val_loss: 19.4641 - val_main_output_loss: 31.9343 - val_aux_output_loss: 0.7588 - val_main_output_mse: 31.9343 - val_main_output_accuracy: 0.0000e+00 - val_aux_output_mse: 0.0775 - val_aux_output_accuracy: 0.6875\n",
      "Epoch 50/50\n",
      "8/8 [==============================] - 0s 3ms/step - loss: 6.1408 - main_output_loss: 9.8007 - aux_output_loss: 0.6509 - main_output_mse: 9.8007 - main_output_accuracy: 0.0000e+00 - aux_output_mse: 0.0647 - aux_output_accuracy: 0.7480 - val_loss: 6.5498 - val_main_output_loss: 10.4474 - val_aux_output_loss: 0.7035 - val_main_output_mse: 10.4474 - val_main_output_accuracy: 0.0000e+00 - val_aux_output_mse: 0.0715 - val_aux_output_accuracy: 0.7031\n"
     ]
    }
   ],
   "source": [
    "history = model.fit(\n",
    "[X_train], [y_train_main, y_train_aux], epochs=50,\n",
    "validation_data=([X_val], [y_val_main, y_val_aux])) # let us train our model"
   ]
  },
  {
   "cell_type": "code",
   "execution_count": 125,
   "metadata": {},
   "outputs": [],
   "source": [
    "y_pred_main, y_pred_aux = model.predict([X_test])"
   ]
  },
  {
   "cell_type": "code",
   "execution_count": 153,
   "metadata": {
    "scrolled": true
   },
   "outputs": [
    {
     "name": "stdout",
     "output_type": "stream",
     "text": [
      "3/3 [==============================] - 0s 8ms/step - loss: 4.4522 - main_output_loss: 6.9628 - aux_output_loss: 0.6863 - main_output_mse: 6.9628 - main_output_accuracy: 0.0000e+00 - aux_output_mse: 0.0652 - aux_output_accuracy: 0.8125\n"
     ]
    },
    {
     "data": {
      "text/plain": [
       "[4.4521803855896,\n",
       " 6.9627814292907715,\n",
       " 0.6862789392471313,\n",
       " 6.9627814292907715,\n",
       " 0.0,\n",
       " 0.06522232294082642,\n",
       " 0.8125]"
      ]
     },
     "execution_count": 153,
     "metadata": {},
     "output_type": "execute_result"
    }
   ],
   "source": [
    "model.evaluate(\n",
    "[X_test], [y_test_main, y_test_aux])"
   ]
  },
  {
   "cell_type": "markdown",
   "metadata": {},
   "source": [
    "# Results\n",
    "Our very simple and quick to train model achieves a mean squared error value of 6.96 when predicting miles per gallon and an accuracy of 81.25 per cent when predicting the make of the car. These results could certainly be improved, and the first step for this would be to use cross validation and pipelines to perform data manipulation without risk of information leakage. We will leave this exercise to the reader."
   ]
  }
 ],
 "metadata": {
  "kernelspec": {
   "display_name": "Python 3",
   "language": "python",
   "name": "python3"
  },
  "language_info": {
   "codemirror_mode": {
    "name": "ipython",
    "version": 3
   },
   "file_extension": ".py",
   "mimetype": "text/x-python",
   "name": "python",
   "nbconvert_exporter": "python",
   "pygments_lexer": "ipython3",
   "version": "3.8.5"
  }
 },
 "nbformat": 4,
 "nbformat_minor": 4
}
